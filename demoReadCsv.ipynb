{
 "cells": [
  {
   "cell_type": "code",
   "execution_count": null,
   "metadata": {},
   "outputs": [],
   "source": [
    "import pandas as pd\n",
    "import numpy as np\n",
    "from sklearn.impute import SimpleImputer\n",
    "from sklearn.preprocessing import StandardScaler\n",
    "\n",
    "\n",
    "titanic_df = pd.read_csv(\"train.csv\")\n",
    "titanic_df = titanic_df.sample(n=len(titanic_df), random_state=1)\n"
   ]
  },
  {
   "cell_type": "code",
   "execution_count": null,
   "metadata": {},
   "outputs": [],
   "source": [
    "\n",
    "scaler = StandardScaler()\n",
    "imputer = SimpleImputer(strategy='mean')\n",
    "def data_pre_process(keep : list, df : pd.DataFrame, experiment=False):\n",
    "    new_df = df[keep]\n",
    "    \n",
    "    if (experiment == True): \n",
    "        for i in new_df.index: \n",
    "            new_df.at[i ,\"Sex\"] = titanic_df[titanic_df[\"Sex\"] == new_df[\"Sex\"].get(i)][\"Survived\"].mean()\n",
    "            new_df.at[i ,\"Pclass\"] = titanic_df[titanic_df[\"Pclass\"] == new_df[\"Pclass\"].get(i)][\"Survived\"].mean()\n",
    "\n",
    "    else:\n",
    "        for i in new_df.index:\n",
    "            if (new_df[\"Sex\"].get(i) == \"female\"): \n",
    "                new_df.at[i ,\"Sex\"] = 0\n",
    "            else: \n",
    "                new_df.at[i ,\"Sex\"] = 1\n",
    "\n",
    "            \n",
    "    if (\"Age\" in keep):  \n",
    "        new_df['Age'] = imputer.fit_transform(new_df[[\"Age\"]])\n",
    "        new_df['Age'] = scaler.fit_transform(new_df[['Age']])\n",
    "    if (\"Fare\" in keep): \n",
    "        new_df['Fare'] = imputer.fit_transform(new_df[[\"Fare\"]])\n",
    "        new_df['Fare'] = scaler.fit_transform(new_df[['Fare']])\n",
    "\n",
    "    \n",
    "    return new_df"
   ]
  },
  {
   "cell_type": "code",
   "execution_count": null,
   "metadata": {},
   "outputs": [],
   "source": [
    "keep = [\"Survived\", \"Pclass\", \"Sex\", \"SibSp\", \"Parch\", \"Fare\", \"Age\"]\n",
    "titanic_df = data_pre_process(keep, titanic_df, experiment=True)\n",
    "\n",
    "titanic_df"
   ]
  },
  {
   "cell_type": "code",
   "execution_count": null,
   "metadata": {},
   "outputs": [],
   "source": [
    "def oneHotEncoder(target, classNum):\n",
    "    oneHotTarget = []\n",
    "    for label in target:\n",
    "        oneHot = np.zeros(classNum)\n",
    "        oneHot[label] = 1\n",
    "        oneHotTarget.append(oneHot)\n",
    "    return np.array(oneHotTarget)"
   ]
  },
  {
   "cell_type": "code",
   "execution_count": null,
   "metadata": {},
   "outputs": [],
   "source": [
    "data, target = titanic_df.drop(\"Survived\", axis=1).values, oneHotEncoder(titanic_df[\"Survived\"].values, 2)"
   ]
  },
  {
   "cell_type": "code",
   "execution_count": null,
   "metadata": {},
   "outputs": [],
   "source": [
    "print(data)\n",
    "print(target)"
   ]
  },
  {
   "cell_type": "code",
   "execution_count": null,
   "metadata": {},
   "outputs": [],
   "source": [
    "def dataToTxt(data_array, path):\n",
    "    rows, cols = data_array.shape\n",
    "    with open(path, 'w') as file:\n",
    "        file.write(f\"{rows} {cols}\\n\")\n",
    "        np.savetxt(file, data_array, fmt='%.6f')"
   ]
  },
  {
   "cell_type": "code",
   "execution_count": null,
   "metadata": {},
   "outputs": [],
   "source": [
    "dataToTxt(data, \"data.txt\")\n",
    "dataToTxt(target, \"target.txt\")"
   ]
  },
  {
   "cell_type": "code",
   "execution_count": null,
   "metadata": {},
   "outputs": [],
   "source": [
    "# import json\n",
    "# with open('data.json', 'w') as json_file:\n",
    "#     json.dump({\"n\" : data.shape[0], \"m\" : data.shape[1], \"data\" : data.tolist()}, json_file)\n",
    "\n",
    "# with open('target.json', 'w') as json_file:\n",
    "#     json.dump({\"n\" : target.shape[0], \"m\" : target.shape[1], \"data\" : target.tolist()}, json_file)"
   ]
  },
  {
   "cell_type": "code",
   "execution_count": null,
   "metadata": {},
   "outputs": [],
   "source": []
  }
 ],
 "metadata": {
  "kernelspec": {
   "display_name": "AI",
   "language": "python",
   "name": "python3"
  },
  "language_info": {
   "codemirror_mode": {
    "name": "ipython",
    "version": 3
   },
   "file_extension": ".py",
   "mimetype": "text/x-python",
   "name": "python",
   "nbconvert_exporter": "python",
   "pygments_lexer": "ipython3",
   "version": "3.9.16"
  }
 },
 "nbformat": 4,
 "nbformat_minor": 2
}
